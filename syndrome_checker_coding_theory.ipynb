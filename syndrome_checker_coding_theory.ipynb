{
 "cells": [
  {
   "cell_type": "code",
   "execution_count": 7,
   "metadata": {},
   "outputs": [
    {
     "name": "stdout",
     "output_type": "stream",
     "text": [
      "Matching column indices:\n",
      "(0, 5, 9)\n",
      "(1, 3, 7)\n",
      "(4, 7, 8)\n",
      "(0, 1, 2, 7)\n",
      "(1, 5, 6, 8)\n",
      "(2, 3, 5, 9)\n",
      "(3, 4, 5, 6)\n",
      "(0, 2, 4, 5, 6)\n",
      "(2, 6, 7, 8, 9)\n",
      "(0, 1, 4, 6, 7, 9)\n",
      "(0, 2, 3, 4, 7, 8)\n",
      "(0, 3, 6, 7, 8, 9)\n",
      "(1, 2, 4, 5, 8, 9)\n",
      "(0, 1, 2, 3, 5, 6, 8)\n",
      "(0, 1, 3, 4, 5, 8, 9)\n",
      "(1, 2, 3, 4, 6, 7, 9)\n"
     ]
    }
   ],
   "source": [
    "import numpy as np\n",
    "import itertools\n",
    "\n",
    "def find_column_combinations(matrix, target):\n",
    "    # Number of columns in the matrix\n",
    "    num_cols = matrix.shape[1]\n",
    "    \n",
    "    # Convert matrix entries to mod 2\n",
    "    # working in Z_2 here for coding theory\n",
    "    matrix_mod_2 = matrix % 2\n",
    "\n",
    "    # List to store combinations of columns that match the target vector\n",
    "    matching_combinations = []\n",
    "\n",
    "    # Generate all possible non-empty combinations of column indices\n",
    "    for r in range(1, num_cols + 1):\n",
    "        for indices in itertools.combinations(range(num_cols), r):\n",
    "\n",
    "            # Select the columns corresponding to the current combination of indices\n",
    "            combined_columns = matrix_mod_2[:, indices]\n",
    "\n",
    "            # Sum the selected columns mod 2\n",
    "            column_sum_mod_2 = combined_columns.sum(axis=1) % 2\n",
    "\n",
    "            # Check if the result matches the target vector\n",
    "            if np.array_equal(column_sum_mod_2, target):\n",
    "\n",
    "                # Append the current combination of indices to the list\n",
    "                matching_combinations.append(indices)\n",
    "\n",
    "    return matching_combinations\n",
    "\n",
    "# Create H (parity) matrix\n",
    "matrix = np.array([[1, 1, 1, 0, 1, 0, 0 , 0, 0, 0],\n",
    "                   [1, 1, 0, 1, 0, 1, 0 , 0, 0,0],\n",
    "                   [0, 1, 1, 1, 0, 0, 1 , 0, 0,0],\n",
    "                   [1, 1, 0, 1, 0, 0, 0 , 1, 0,0],\n",
    "                   [1, 0, 0, 1, 0, 0, 0 , 0, 1,0],\n",
    "                   [1, 0, 1, 0, 0, 0, 0 , 0, 0,1]])\n",
    "\n",
    "# Define a target vector Hz_i (syndrome)\n",
    "syndrome = np.array([1,0,0,1,1,0])\n",
    "\n",
    "# Find combinations of columns that sum to the target vector mod 2\n",
    "matching_combinations = find_column_combinations(matrix, syndrome)\n",
    "\n",
    "# Print each matching combination of column indices\n",
    "print(\"Matching column indices:\")\n",
    "for combo in matching_combinations:\n",
    "    print(combo)\n"
   ]
  }
 ],
 "metadata": {
  "kernelspec": {
   "display_name": "Python 3",
   "language": "python",
   "name": "python3"
  },
  "language_info": {
   "codemirror_mode": {
    "name": "ipython",
    "version": 3
   },
   "file_extension": ".py",
   "mimetype": "text/x-python",
   "name": "python",
   "nbconvert_exporter": "python",
   "pygments_lexer": "ipython3",
   "version": "3.11.5"
  }
 },
 "nbformat": 4,
 "nbformat_minor": 2
}
